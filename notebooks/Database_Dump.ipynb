{
 "cells": [
  {
   "cell_type": "markdown",
   "id": "0b343753",
   "metadata": {},
   "source": [
    "Import Libraries"
   ]
  },
  {
   "cell_type": "code",
   "execution_count": 3,
   "id": "b6d23567",
   "metadata": {},
   "outputs": [],
   "source": [
    "import psycopg2\n",
    "import logging\n",
    "logging.basicConfig(level=logging.INFO)\n",
    "logger = logging.getLogger(__name__)"
   ]
  },
  {
   "cell_type": "markdown",
   "id": "c7416612",
   "metadata": {},
   "source": [
    "Connect to PostgreSQL and create tables"
   ]
  },
  {
   "cell_type": "code",
   "execution_count": 4,
   "id": "fd1de678",
   "metadata": {},
   "outputs": [
    {
     "name": "stderr",
     "output_type": "stream",
     "text": [
      "INFO:__main__:Connected to PostgreSQL and tables created\n"
     ]
    }
   ],
   "source": [
    "try:\n",
    "    conn = psycopg2.connect(\n",
    "        dbname=\"api_development_db\",\n",
    "        user=\"postgres\",\n",
    "        password=\"semah\",\n",
    "        host=\"localhost\",\n",
    "        port=\"5432\"\n",
    "    )\n",
    "    cursor = conn.cursor()\n",
    "    cursor.execute('''CREATE TABLE IF NOT EXISTS job_descriptions (\n",
    "                      id SERIAL PRIMARY KEY,\n",
    "                      filename TEXT NOT NULL,\n",
    "                      text TEXT NOT NULL)''')\n",
    "    cursor.execute('''CREATE TABLE IF NOT EXISTS cvs (\n",
    "                      id SERIAL PRIMARY KEY,\n",
    "                      filename TEXT NOT NULL,\n",
    "                      text TEXT NOT NULL,\n",
    "                      qualifications TEXT NOT NULL,\n",
    "                      skills TEXT NOT NULL,\n",
    "                      experience TEXT NOT NULL)''')\n",
    "    conn.commit()\n",
    "    logger.info(\"Connected to PostgreSQL and tables created\")\n",
    "except Exception as e:\n",
    "    logger.error(f\"Error connecting to PostgreSQL: {e}\")\n",
    "    raise"
   ]
  },
  {
   "cell_type": "markdown",
   "id": "dfd8382d",
   "metadata": {},
   "source": [
    "Test storing a sample job description"
   ]
  },
  {
   "cell_type": "code",
   "execution_count": 5,
   "id": "df792a66",
   "metadata": {},
   "outputs": [
    {
     "name": "stderr",
     "output_type": "stream",
     "text": [
      "INFO:__main__:Stored job with ID: 11\n"
     ]
    }
   ],
   "source": [
    "def store_job_description(filename, text):\n",
    "    cursor.execute(\"INSERT INTO job_descriptions (filename, text) VALUES (%s, %s)\", (filename, text))\n",
    "    conn.commit()\n",
    "    cursor.execute(\"SELECT LASTVAL()\")\n",
    "    job_id = cursor.fetchone()[0]\n",
    "    logger.info(f\"Stored job with ID: {job_id}\")\n",
    "    return job_id\n",
    "\n",
    "job_id = store_job_description(\"sample_job.pdf\", \"Sample job description for a juriste role\")"
   ]
  },
  {
   "cell_type": "markdown",
   "id": "edcea2ea",
   "metadata": {},
   "source": [
    "Test storing a sample CV"
   ]
  },
  {
   "cell_type": "code",
   "execution_count": 6,
   "id": "98edf2f0",
   "metadata": {},
   "outputs": [
    {
     "name": "stderr",
     "output_type": "stream",
     "text": [
      "INFO:__main__:Stored CV with ID: 2\n"
     ]
    }
   ],
   "source": [
    "def store_cv(filename, text, qualifications, skills, experience):\n",
    "    cursor.execute(\"INSERT INTO cvs (filename, text, qualifications, skills, experience) VALUES (%s, %s, %s, %s, %s)\", \n",
    "                   (filename, text, \",\".join(qualifications), \",\".join(skills), \",\".join(experience)))\n",
    "    conn.commit()\n",
    "    cursor.execute(\"SELECT LASTVAL()\")\n",
    "    cv_id = cursor.fetchone()[0]\n",
    "    logger.info(f\"Stored CV with ID: {cv_id}\")\n",
    "    return cv_id\n",
    "\n",
    "cv_id = store_cv(\"juriste_cv.png\", \"CV for a juriste\", [\"law degree\"], [\"negotiation\"], [\"5 years\"])"
   ]
  },
  {
   "cell_type": "markdown",
   "id": "f0cb3b5d",
   "metadata": {},
   "source": [
    "Retrieve and display all stored jobs"
   ]
  },
  {
   "cell_type": "code",
   "execution_count": 7,
   "id": "6f3e8d6a",
   "metadata": {},
   "outputs": [
    {
     "name": "stderr",
     "output_type": "stream",
     "text": [
      "INFO:__main__:Found 11 jobs\n"
     ]
    },
    {
     "name": "stdout",
     "output_type": "stream",
     "text": [
      "Job ID: 1, Filename: job4.docx, Text: Job 4: Legal Assistant position offering 5 years of experience in case preparation and analysis.\n",
      "Job ID: 2, Filename: job4.pdf, Text: Job 4: Legal Assistant position offering 5 years of experience in case preparation and analysis.\n",
      "Job ID: 3, Filename: job5.docx, Text: Job 5: Attorney with 1 years of practice in intellectual property law and client counseling.\n",
      "Job ID: 4, Filename: job5.pdf, Text: Job 5: Attorney with 1 years of practice in intellectual property law and client counseling.\n",
      "Job ID: 5, Filename: job6.docx, Text: Job 6: Legal Analyst position requiring 2 years of experience in contract law and negotiation skills.\n",
      "Job ID: 6, Filename: job7.pdf, Text: Job 7: Paralegal role with expertise in legal research and 3 years of drafting contracts.\n",
      "Job ID: 7, Filename: job8.docx, Text: Job 8: Corporate Lawyer needed with 4 years in compliance and litigation management.\n",
      "Job ID: 8, Filename: job8.pdf, Text: Job 8: Corporate Lawyer needed with 4 years in compliance and litigation management.\n",
      "Job ID: 9, Filename: job9.docx, Text: Job 9: Legal Assistant position offering 5 years of experience in case preparation and analysis.\n",
      "Job ID: 10, Filename: job9.pdf, Text: Job 9: Legal Assistant position offering 5 years of experience in case preparation and analysis.\n",
      "Job ID: 11, Filename: sample_job.pdf, Text: Sample job description for a juriste role\n"
     ]
    }
   ],
   "source": [
    "cursor.execute(\"SELECT * FROM job_descriptions\")\n",
    "jobs = cursor.fetchall()\n",
    "logger.info(f\"Found {len(jobs)} jobs\")\n",
    "for job in jobs:\n",
    "    print(f\"Job ID: {job[0]}, Filename: {job[1]}, Text: {job[2]}\")"
   ]
  },
  {
   "cell_type": "markdown",
   "id": "859cf1d3",
   "metadata": {},
   "source": [
    "Retrieve and display all stored CVs"
   ]
  },
  {
   "cell_type": "code",
   "execution_count": 8,
   "id": "f0d09c0a",
   "metadata": {},
   "outputs": [
    {
     "name": "stderr",
     "output_type": "stream",
     "text": [
      "INFO:__main__:Found 2 CVs\n"
     ]
    },
    {
     "name": "stdout",
     "output_type": "stream",
     "text": [
      "CV ID: 1, Filename: juriste.png, Qualifications: ['jurisprudence', 'degree', 'law']\n",
      "CV ID: 2, Filename: juriste_cv.png, Qualifications: ['law degree']\n"
     ]
    }
   ],
   "source": [
    "cursor.execute(\"SELECT * FROM cvs\")\n",
    "cvs = cursor.fetchall()\n",
    "logger.info(f\"Found {len(cvs)} CVs\")\n",
    "for cv in cvs:\n",
    "    print(f\"CV ID: {cv[0]}, Filename: {cv[1]}, Qualifications: {cv[3].split(',')}\")"
   ]
  },
  {
   "cell_type": "markdown",
   "id": "be88aea6",
   "metadata": {},
   "source": [
    "Close the database connection"
   ]
  },
  {
   "cell_type": "markdown",
   "id": "138c669a",
   "metadata": {},
   "source": [
    "cursor.close()\n",
    "conn.close()\n",
    "logger.info(\"Database connection closed\")"
   ]
  },
  {
   "cell_type": "markdown",
   "id": "64a5ee8c",
   "metadata": {},
   "source": []
  }
 ],
 "metadata": {
  "kernelspec": {
   "display_name": "venv",
   "language": "python",
   "name": "python3"
  },
  "language_info": {
   "codemirror_mode": {
    "name": "ipython",
    "version": 3
   },
   "file_extension": ".py",
   "mimetype": "text/x-python",
   "name": "python",
   "nbconvert_exporter": "python",
   "pygments_lexer": "ipython3",
   "version": "3.13.1"
  }
 },
 "nbformat": 4,
 "nbformat_minor": 5
}
