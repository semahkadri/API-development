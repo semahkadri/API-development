{
 "cells": [
  {
   "cell_type": "markdown",
   "id": "6bb1f586",
   "metadata": {},
   "source": [
    "Imports and Setup"
   ]
  },
  {
   "cell_type": "code",
   "execution_count": 1,
   "id": "c8865157",
   "metadata": {},
   "outputs": [
    {
     "data": {
      "text/plain": [
       "True"
      ]
     },
     "execution_count": 1,
     "metadata": {},
     "output_type": "execute_result"
    }
   ],
   "source": [
    "from typing import Optional\n",
    "from deep_translator import GoogleTranslator\n",
    "import logging\n",
    "from dotenv import load_dotenv\n",
    "import os\n",
    "\n",
    "logging.basicConfig(level=logging.INFO)\n",
    "logger = logging.getLogger(__name__)\n",
    "\n",
    "load_dotenv()"
   ]
  },
  {
   "cell_type": "markdown",
   "id": "47c35881",
   "metadata": {},
   "source": [
    "Configuration Loading"
   ]
  },
  {
   "cell_type": "code",
   "execution_count": null,
   "id": "353b47cf",
   "metadata": {},
   "outputs": [
    {
     "name": "stderr",
     "output_type": "stream",
     "text": [
      "INFO:__main__:Configuration loaded successfully\n"
     ]
    }
   ],
   "source": [
    "JOB_TEXT_FOR_TRANSLATION: str = os.getenv(\"JOB_TEXT_FOR_TRANSLATION\")\n",
    "\n",
    "if not JOB_TEXT_FOR_TRANSLATION:\n",
    "    logger.error(\"JOB_TEXT_FOR_TRANSLATION environment variable is not defined\")\n",
    "    raise ValueError(\"JOB_TEXT_FOR_TRANSLATION must be defined in the .env file\")\n",
    "\n",
    "logger.debug(f\"JOB_TEXT_FOR_TRANSLATION from .env: {JOB_TEXT_FOR_TRANSLATION[:200]}...\")\n",
    "logger.info(\"Configuration loaded successfully\")"
   ]
  },
  {
   "cell_type": "markdown",
   "id": "f04bd73d",
   "metadata": {},
   "source": [
    "Translation Function"
   ]
  },
  {
   "cell_type": "code",
   "execution_count": 7,
   "id": "741f8d24",
   "metadata": {},
   "outputs": [
    {
     "name": "stderr",
     "output_type": "stream",
     "text": [
      "INFO:__main__:Translation function defined\n"
     ]
    }
   ],
   "source": [
    "def translate_to_english(text: str, source_lang: str = \"auto\") -> Optional[str]:\n",
    "    \"\"\"Translate the given text to English using Google Translate.\n",
    "\n",
    "    Args:\n",
    "        text: The text to translate.\n",
    "        source_lang: The source language code (default 'auto' for auto-detection).\n",
    "\n",
    "    Returns:\n",
    "        Optional[str]: Translated text in English, or None if translation fails.\n",
    "    \"\"\"\n",
    "    try:\n",
    "        if not text or not text.strip():\n",
    "            logger.warning(\"Empty or whitespace-only text provided for translation\")\n",
    "            return None\n",
    "\n",
    "        translator = GoogleTranslator(source=source_lang, target=\"en\")\n",
    "        translated_text = translator.translate(text)\n",
    "        logger.debug(f\"Translated text from '{source_lang}' to English: {translated_text[:200]}...\")\n",
    "        return translated_text\n",
    "    except Exception as e:\n",
    "        logger.error(f\"Error translating text: {str(e)}\")\n",
    "        return None\n",
    "\n",
    "logger.info(\"Translation function defined\")"
   ]
  },
  {
   "cell_type": "markdown",
   "id": "647ebebb",
   "metadata": {},
   "source": [
    "Test Translation"
   ]
  },
  {
   "cell_type": "code",
   "execution_count": 9,
   "id": "4c85e284",
   "metadata": {},
   "outputs": [
    {
     "name": "stderr",
     "output_type": "stream",
     "text": [
      "INFO:__main__:Starting translation API test\n",
      "INFO:__main__:Phrase to translate from .env: Je suis un avocat avec 5 ans d'expérience juridique dans le droit des contrats\n",
      "INFO:__main__:Testing translation of job description from .env to English\n",
      "INFO:__main__:Translated text: I am a lawyer with 5 years of legal experience in contract law\n",
      "INFO:__main__:Simulated API response: {'message': 'Translation completed', 'translated_text': 'I am a lawyer with 5 years of legal experience in contract law'}\n"
     ]
    }
   ],
   "source": [
    "logger.info(\"Starting translation API test\")\n",
    "\n",
    "logger.info(f\"Phrase to translate from .env: {JOB_TEXT_FOR_TRANSLATION}\")\n",
    "\n",
    "logger.info(\"Testing translation of job description from .env to English\")\n",
    "translated_text: Optional[str] = translate_to_english(JOB_TEXT_FOR_TRANSLATION)\n",
    "\n",
    "if translated_text:\n",
    "    logger.info(f\"Translated text: {translated_text}\")\n",
    "else:\n",
    "    logger.warning(\"Translation failed\")\n",
    "\n",
    "response = {\n",
    "    \"message\": \"Translation completed\" if translated_text else \"Translation failed\",\n",
    "    \"translated_text\": translated_text\n",
    "}\n",
    "logger.info(f\"Simulated API response: {response}\")"
   ]
  },
  {
   "cell_type": "markdown",
   "id": "42013e11",
   "metadata": {},
   "source": []
  }
 ],
 "metadata": {
  "kernelspec": {
   "display_name": "venv",
   "language": "python",
   "name": "python3"
  },
  "language_info": {
   "codemirror_mode": {
    "name": "ipython",
    "version": 3
   },
   "file_extension": ".py",
   "mimetype": "text/x-python",
   "name": "python",
   "nbconvert_exporter": "python",
   "pygments_lexer": "ipython3",
   "version": "3.13.1"
  }
 },
 "nbformat": 4,
 "nbformat_minor": 5
}
