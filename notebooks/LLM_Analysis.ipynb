{
 "cells": [
  {
   "cell_type": "markdown",
   "id": "9292c136",
   "metadata": {},
   "source": [
    "Import Libraries"
   ]
  },
  {
   "cell_type": "code",
   "execution_count": 1,
   "id": "82db1fcd",
   "metadata": {},
   "outputs": [
    {
     "data": {
      "text/plain": [
       "True"
      ]
     },
     "execution_count": 1,
     "metadata": {},
     "output_type": "execute_result"
    }
   ],
   "source": [
    "import psycopg2\n",
    "import google.generativeai as genai\n",
    "import logging\n",
    "from dotenv import load_dotenv\n",
    "import os\n",
    "\n",
    "logging.basicConfig(level=logging.INFO, format='%(asctime)s - %(levelname)s - %(message)s')\n",
    "logger = logging.getLogger(__name__)\n",
    "\n",
    "load_dotenv()"
   ]
  },
  {
   "cell_type": "markdown",
   "id": "e8ad8b48",
   "metadata": {},
   "source": [
    "Open Database Connection"
   ]
  },
  {
   "cell_type": "code",
   "execution_count": 2,
   "id": "8f325ad1",
   "metadata": {},
   "outputs": [
    {
     "name": "stderr",
     "output_type": "stream",
     "text": [
      "2025-04-08 00:08:57,269 - INFO - Connected to PostgreSQL database\n"
     ]
    }
   ],
   "source": [
    "conn = None\n",
    "cursor = None\n",
    "\n",
    "def open_db_connection():\n",
    "    \"\"\"Open a connection to the PostgreSQL database.\"\"\"\n",
    "    global conn, cursor\n",
    "    try:\n",
    "        conn = psycopg2.connect(\n",
    "            dbname=\"api_development_db\",\n",
    "            user=\"postgres\",\n",
    "            password=os.getenv(\"POSTGRES_PASSWORD\", \"semah\"),  # Replace with your password in .env if different\n",
    "            host=\"localhost\",\n",
    "            port=\"5432\"\n",
    "        )\n",
    "        cursor = conn.cursor()\n",
    "        logger.info(\"Connected to PostgreSQL database\")\n",
    "    except Exception as e:\n",
    "        logger.error(f\"Error connecting to PostgreSQL: {str(e)}\")\n",
    "        raise\n",
    "\n",
    "open_db_connection()"
   ]
  },
  {
   "cell_type": "markdown",
   "id": "818c6baa",
   "metadata": {},
   "source": [
    "Fetch CV Text from Database"
   ]
  },
  {
   "cell_type": "code",
   "execution_count": 3,
   "id": "102abc8f",
   "metadata": {},
   "outputs": [
    {
     "name": "stderr",
     "output_type": "stream",
     "text": [
      "2025-04-08 00:09:31,306 - INFO - Fetched CV text for filename: juriste.png\n"
     ]
    }
   ],
   "source": [
    "def fetch_cv_text():\n",
    "    \"\"\"Fetch the text for a specific CV from the PostgreSQL database based on filename from .env.\"\"\"\n",
    "    try:\n",
    "        filename = os.getenv(\"LLM_ANALYSIS_FILENAME\", \"LLM_ANALYSIS_FILENAME\")\n",
    "        if filename == \"LLM_ANALYSIS_FILENAME\":\n",
    "            logger.error(\"No valid filename defined in LLM_ANALYSIS_FILENAME in .env\")\n",
    "            return None, None\n",
    "        \n",
    "        cursor.execute(\"SELECT filename, text FROM cvs WHERE filename = %s\", (filename,))\n",
    "        result = cursor.fetchone()\n",
    "        conn.commit()\n",
    "        \n",
    "        if not result:\n",
    "            logger.warning(f\"No CV found with filename: {filename}\")\n",
    "            return filename, None\n",
    "        \n",
    "        cv_filename, cv_text = result\n",
    "        logger.info(f\"Fetched CV text for filename: {cv_filename}\")\n",
    "        return cv_filename, cv_text\n",
    "    except Exception as e:\n",
    "        logger.error(f\"Error fetching CV text: {str(e)}\")\n",
    "        conn.rollback()\n",
    "        return None, None\n",
    "\n",
    "cv_filename, cv_text = fetch_cv_text()"
   ]
  },
  {
   "cell_type": "markdown",
   "id": "87abf64b",
   "metadata": {},
   "source": [
    "Analyze with LLM"
   ]
  },
  {
   "cell_type": "code",
   "execution_count": 4,
   "id": "56dda01c",
   "metadata": {},
   "outputs": [
    {
     "name": "stderr",
     "output_type": "stream",
     "text": [
      "2025-04-08 00:10:24,978 - INFO - Gemini LLM analysis completed successfully\n",
      "2025-04-08 00:10:24,981 - INFO - Extracted data for juriste.png: {'skills': ['Contract Negotiation', 'Legal Research'], 'experiences': ['Several years in law firms'], 'qualifications': ['Law Degree', 'Jurisprudence']}\n"
     ]
    }
   ],
   "source": [
    "def analyze_with_llm(text_data):\n",
    "    \"\"\"Analyze text data using Google's Gemini API to extract skills, experiences, and qualifications.\"\"\"\n",
    "    try:\n",
    "        api_key = os.getenv(\"GEMINI_API_KEY\", \"GEMINI_API_KEY\")\n",
    "        if api_key == \"GEMINI_API_KEY\":\n",
    "            logger.error(\"No valid GEMINI_API_KEY defined in .env\")\n",
    "            return {}\n",
    "\n",
    "        genai.configure(api_key=api_key)\n",
    "        \n",
    "        all_text = \" \".join(text_data)\n",
    "        prompt = os.getenv(\"LLM_ANALYSIS_PROMPT\", \"LLM_ANALYSIS_PROMPT\").format(text=all_text)\n",
    "        \n",
    "        model = genai.GenerativeModel(\"gemini-1.5-flash\")\n",
    "        response = model.generate_content(prompt)\n",
    "        \n",
    "        extracted_text = response.text.strip()\n",
    "        skills, experiences, qualifications = [], [], []\n",
    "        lines = extracted_text.split(\"\\n\")\n",
    "        current_section = None\n",
    "        \n",
    "        for line in lines:\n",
    "            line = line.strip()\n",
    "            if line.startswith(\"Skills:\"):\n",
    "                current_section = \"skills\"\n",
    "                skills = line.replace(\"Skills:\", \"\").strip().split(\", \")\n",
    "            elif line.startswith(\"Experiences:\"):\n",
    "                current_section = \"experiences\"\n",
    "                experiences = line.replace(\"Experiences:\", \"\").strip().split(\", \")\n",
    "            elif line.startswith(\"Qualifications:\"):\n",
    "                current_section = \"qualifications\"\n",
    "                qualifications = line.replace(\"Qualifications:\", \"\").strip().split(\", \")\n",
    "            elif line and current_section:\n",
    "                if current_section == \"skills\":\n",
    "                    skills.extend(line.split(\", \"))\n",
    "                elif current_section == \"experiences\":\n",
    "                    experiences.extend(line.split(\", \"))\n",
    "                elif current_section == \"qualifications\":\n",
    "                    qualifications.extend(line.split(\", \"))\n",
    "\n",
    "        skills = [skill.strip() for skill in skills if skill.strip()]\n",
    "        experiences = [exp.strip() for exp in experiences if exp.strip()]\n",
    "        qualifications = [qual.strip() for qual in qualifications if qual.strip()]\n",
    "\n",
    "        logger.info(\"Gemini LLM analysis completed successfully\")\n",
    "        return {\n",
    "            \"skills\": skills,\n",
    "            \"experiences\": experiences,\n",
    "            \"qualifications\": qualifications\n",
    "        }\n",
    "    except Exception as e:\n",
    "        logger.error(f\"Error during Gemini LLM analysis: {str(e)}\")\n",
    "        return {\"skills\": [], \"experiences\": [], \"qualifications\": []}\n",
    "\n",
    "if cv_text:\n",
    "    extracted_data = analyze_with_llm([cv_text])\n",
    "    logger.info(f\"Extracted data for {cv_filename}: {extracted_data}\")\n",
    "else:\n",
    "    logger.error(\"No CV text available to analyze\")\n",
    "    extracted_data = {\"skills\": [], \"experiences\": [], \"qualifications\": []}"
   ]
  },
  {
   "cell_type": "markdown",
   "id": "ae1d4f6f",
   "metadata": {},
   "source": [
    "Close Database Connection"
   ]
  },
  {
   "cell_type": "code",
   "execution_count": 5,
   "id": "388c1c4f",
   "metadata": {},
   "outputs": [
    {
     "name": "stderr",
     "output_type": "stream",
     "text": [
      "2025-04-08 00:11:17,637 - INFO - Database connection closed successfully\n"
     ]
    }
   ],
   "source": [
    "def close_db_connection():\n",
    "    \"\"\"Close the PostgreSQL database connection.\"\"\"\n",
    "    global conn, cursor\n",
    "    try:\n",
    "        if conn and conn.closed == 0:\n",
    "            if conn.status == psycopg2.extensions.STATUS_IN_TRANSACTION:\n",
    "                conn.rollback()\n",
    "            cursor.close()\n",
    "            conn.close()\n",
    "            logger.info(\"Database connection closed successfully\")\n",
    "    except Exception as e:\n",
    "        logger.error(f\"Error closing database connection: {str(e)}\")\n",
    "\n",
    "close_db_connection()"
   ]
  },
  {
   "cell_type": "code",
   "execution_count": null,
   "id": "c1b76e27",
   "metadata": {},
   "outputs": [],
   "source": []
  }
 ],
 "metadata": {
  "kernelspec": {
   "display_name": "venv",
   "language": "python",
   "name": "python3"
  },
  "language_info": {
   "codemirror_mode": {
    "name": "ipython",
    "version": 3
   },
   "file_extension": ".py",
   "mimetype": "text/x-python",
   "name": "python",
   "nbconvert_exporter": "python",
   "pygments_lexer": "ipython3",
   "version": "3.13.1"
  }
 },
 "nbformat": 4,
 "nbformat_minor": 5
}
