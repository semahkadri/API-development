{
 "cells": [
  {
   "cell_type": "markdown",
   "id": "b1d3fd3f",
   "metadata": {},
   "source": [
    "Import Libraries"
   ]
  },
  {
   "cell_type": "code",
   "execution_count": 1,
   "id": "69540790",
   "metadata": {},
   "outputs": [],
   "source": [
    "import pdfplumber\n",
    "import docx\n",
    "import os"
   ]
  },
  {
   "cell_type": "markdown",
   "id": "9ab33dbd",
   "metadata": {},
   "source": [
    "Define Extraction Functions"
   ]
  },
  {
   "cell_type": "code",
   "execution_count": 2,
   "id": "496b48d5",
   "metadata": {},
   "outputs": [],
   "source": [
    "def extract_pdf_text(file_path):\n",
    "    \"\"\"Extract text from a PDF file using pdfplumber.\"\"\"\n",
    "    try:\n",
    "        with pdfplumber.open(file_path) as pdf:\n",
    "            text = ''\n",
    "            for page in pdf.pages:\n",
    "                page_text = page.extract_text()\n",
    "                if page_text:\n",
    "                    text += page_text + ' '\n",
    "            return text.strip() or ''\n",
    "    except Exception as e:\n",
    "        return f\"Error: {str(e)}\"\n",
    "\n",
    "def extract_docx_text(file_path):\n",
    "    \"\"\"Extract text from a DOCX file using python-docx.\"\"\"\n",
    "    try:\n",
    "        doc = docx.Document(file_path)\n",
    "        text = ''\n",
    "        for paragraph in doc.paragraphs:\n",
    "            if paragraph.text.strip():\n",
    "                text += paragraph.text + ' '\n",
    "        return text.strip() or ''\n",
    "    except Exception as e:\n",
    "        return f\"Error: {str(e)}\""
   ]
  },
  {
   "cell_type": "markdown",
   "id": "002b4508",
   "metadata": {},
   "source": [
    "Test with Single Files"
   ]
  },
  {
   "cell_type": "code",
   "execution_count": 17,
   "id": "462b60d1",
   "metadata": {},
   "outputs": [
    {
     "name": "stderr",
     "output_type": "stream",
     "text": [
      "CropBox missing from /Page, defaulting to MediaBox\n",
      "CropBox missing from /Page, defaulting to MediaBox\n"
     ]
    },
    {
     "name": "stdout",
     "output_type": "stream",
     "text": [
      "PDF Text: Job 1: Legal Analyst position requiring 2 years of experience in contract law and negotiation skills.\n",
      "DOCX Text: Job 5: Attorney with 1 years of practice in intellectual property law and client counseling.\n"
     ]
    }
   ],
   "source": [
    "sample_pdf = \"../uploads/job1.pdf\" \n",
    "sample_docx = \"../uploads/job5.docx\"\n",
    "\n",
    "pdf_text = extract_pdf_text(sample_pdf)\n",
    "docx_text = extract_docx_text(sample_docx)\n",
    "\n",
    "print(\"PDF Text:\", pdf_text)\n",
    "print(\"DOCX Text:\", docx_text)"
   ]
  },
  {
   "cell_type": "markdown",
   "id": "4a564852",
   "metadata": {},
   "source": [
    "Test with Multiple Files"
   ]
  },
  {
   "cell_type": "code",
   "execution_count": null,
   "id": "a1e77ce7",
   "metadata": {},
   "outputs": [],
   "source": [
    "upload_folder = \"../uploads/\"\n",
    "pdf_files = [f\"{upload_folder}job{i}.pdf\" for i in range(1, 21)]\n",
    "docx_files = [f\"{upload_folder}job{i}.docx\" for i in range(1, 21)]\n",
    "all_files = pdf_files + docx_files\n",
    "\n",
    "extracted_texts = []\n",
    "for file_path in all_files:\n",
    "    if file_path.endswith('.pdf'):\n",
    "        text = extract_pdf_text(file_path)\n",
    "        extracted_texts.append({'filename': os.path.basename(file_path), 'text': text})\n",
    "    elif file_path.endswith('.docx'):\n",
    "        text = extract_docx_text(file_path)\n",
    "        extracted_texts.append({'filename': os.path.basename(file_path), 'text': text})\n",
    "    print(f\"Extracted from {file_path}: {text[:50]}...\")"
   ]
  },
  {
   "cell_type": "markdown",
   "id": "7a3a6a5c",
   "metadata": {},
   "source": [
    "Analyze Results"
   ]
  },
  {
   "cell_type": "code",
   "execution_count": 10,
   "id": "ee6d05c1",
   "metadata": {},
   "outputs": [
    {
     "name": "stdout",
     "output_type": "stream",
     "text": [
      "Total Files Processed: 40\n",
      "Successful Extractions: 40\n",
      "Sample Extracted Texts: [{'filename': 'job1.pdf', 'text': 'Job 1: Legal Analyst position requiring 2 years of experience in contract law and negotiation skills.'}, {'filename': 'job2.pdf', 'text': 'Job 2: Paralegal role with expertise in legal research and 3 years of drafting contracts.'}, {'filename': 'job3.pdf', 'text': 'Job 3: Corporate Lawyer needed with 4 years in compliance and litigation management.'}, {'filename': 'job4.pdf', 'text': 'Job 4: Legal Assistant position offering 5 years of experience in case preparation and analysis.'}, {'filename': 'job5.pdf', 'text': 'Job 5: Attorney with 1 years of practice in intellectual property law and client counseling.'}]\n"
     ]
    }
   ],
   "source": [
    "total_files = len(extracted_texts)\n",
    "successful_extractions = sum(1 for item in extracted_texts if item['text'] and not item['text'].startswith('Error'))\n",
    "print(f\"Total Files Processed: {total_files}\")\n",
    "print(f\"Successful Extractions: {successful_extractions}\")\n",
    "print(\"Sample Extracted Texts:\", extracted_texts[:5])"
   ]
  },
  {
   "cell_type": "code",
   "execution_count": null,
   "id": "bf214cd9",
   "metadata": {},
   "outputs": [],
   "source": []
  }
 ],
 "metadata": {
  "kernelspec": {
   "display_name": "venv",
   "language": "python",
   "name": "python3"
  },
  "language_info": {
   "codemirror_mode": {
    "name": "ipython",
    "version": 3
   },
   "file_extension": ".py",
   "mimetype": "text/x-python",
   "name": "python",
   "nbconvert_exporter": "python",
   "pygments_lexer": "ipython3",
   "version": "3.13.1"
  }
 },
 "nbformat": 4,
 "nbformat_minor": 5
}
