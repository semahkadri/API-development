{
 "cells": [
  {
   "cell_type": "markdown",
   "id": "4379f5e4",
   "metadata": {},
   "source": [
    "Import Libraries"
   ]
  },
  {
   "cell_type": "code",
   "execution_count": 1,
   "id": "98363a54",
   "metadata": {},
   "outputs": [],
   "source": [
    "from PIL import Image, ImageEnhance, ImageFilter\n",
    "import pytesseract\n",
    "import nltk\n",
    "import re\n",
    "import os"
   ]
  },
  {
   "cell_type": "markdown",
   "id": "4c5d7b92",
   "metadata": {},
   "source": [
    "Define Extraction and Parsing Functions"
   ]
  },
  {
   "cell_type": "code",
   "execution_count": 3,
   "id": "50bb4e44",
   "metadata": {},
   "outputs": [],
   "source": [
    "def extract_png_text(file_path):\n",
    "    \"\"\"Extract text from a PNG file with optimized OCR.\"\"\"\n",
    "    try:\n",
    "        image = Image.open(file_path)\n",
    "        enhancer = ImageEnhance.Contrast(image)\n",
    "        image = enhancer.enhance(2)\n",
    "        image = image.filter(ImageFilter.SHARPEN)\n",
    "        text = pytesseract.image_to_string(image)\n",
    "        return re.sub(r'\\s+', ' ', text.strip())\n",
    "    except Exception as e:\n",
    "        return f\"Error: {str(e)}\"\n",
    "\n",
    "def parse_cv(text):\n",
    "    \"\"\"Parse CV text for qualifications, skills, and experience.\"\"\"\n",
    "    tokens = nltk.word_tokenize(text.lower())\n",
    "    print(\"Tokens:\", tokens)\n",
    "\n",
    "    qualifications = ['law', 'legal', 'jurisprudence', 'degree', 'master', 'bachelor', 'llb', 'jd']\n",
    "    skills = ['negotiation', 'contract', 'research', 'analysis', 'drafting', 'litigation', 'compliance']\n",
    "    experience = ['years', 'experience', 'worked', 'firm', 'firms', 'practice']\n",
    "\n",
    "    found_qualifications = [token for token in tokens if token in qualifications]\n",
    "    found_skills = [token for token in tokens if token in skills]\n",
    "    found_experience = [token for token in tokens if token in experience]\n",
    "\n",
    "    return {\n",
    "        'qualifications': list(set(found_qualifications)),\n",
    "        'skills': list(set(found_skills)),\n",
    "        'experience': list(set(found_experience)),\n",
    "        'raw_text': text\n",
    "    }"
   ]
  },
  {
   "cell_type": "markdown",
   "id": "1c73b863",
   "metadata": {},
   "source": [
    "Test with Juriste CV"
   ]
  },
  {
   "cell_type": "code",
   "execution_count": 5,
   "id": "3dd813ba",
   "metadata": {},
   "outputs": [
    {
     "name": "stdout",
     "output_type": "stream",
     "text": [
      "Extracted Text: John Doe Juriste Qualifications: Law Degree, - Jurisprudence ‘Skills: Contract tiation, Leg; “Research “ ars in law firms i> — ee\n",
      "Tokens: ['john', 'doe', 'juriste', 'qualifications', ':', 'law', 'degree', ',', '-', 'jurisprudence', '‘', 'skills', ':', 'contract', 'tiation', ',', 'leg', ';', '“', 'research', '“', 'ars', 'in', 'law', 'firms', 'i', '>', '—', 'ee']\n",
      "Parsed CV: {'qualifications': ['law', 'degree', 'jurisprudence'], 'skills': ['research', 'contract'], 'experience': ['firms'], 'raw_text': 'John Doe Juriste Qualifications: Law Degree, - Jurisprudence ‘Skills: Contract tiation, Leg; “Research “ ars in law firms i> — ee'}\n"
     ]
    }
   ],
   "source": [
    "cv_path = \"../uploads/juriste.png\"\n",
    "cv_text = extract_png_text(cv_path)\n",
    "print(\"Extracted Text:\", cv_text)\n",
    "\n",
    "parsed_cv = parse_cv(cv_text)\n",
    "print(\"Parsed CV:\", parsed_cv)"
   ]
  },
  {
   "cell_type": "markdown",
   "id": "162e4c36",
   "metadata": {},
   "source": [
    "Experiment with OCR Variations"
   ]
  },
  {
   "cell_type": "code",
   "execution_count": 8,
   "metadata": {},
   "outputs": [
    {
     "name": "stdout",
     "output_type": "stream",
     "text": [
      "Normal OCR Text: John Doe Juriste Qualifications: Law Degree, Jurisprudence Me Sentra tiation, Leg esearch E i : ars in law firms\n",
      "High Contrast OCR Text: John Doe Juriste } Qualifications: Law Degree, | Jurisprudence ills: Contract tiation, Legi Research ~ ars in law firms\n",
      "Sharpened OCR Text: John Doe Juriste Qualifications: Law Degree, i Jurisprudence | Skills: Contract tiation, Leg; esearch .\" Expe : ars in law firms\n"
     ]
    }
   ],
   "source": [
    "def test_ocr_variations(file_path):\n",
    "    image = Image.open(file_path)\n",
    "    variations = [\n",
    "        (\"Normal\", image),\n",
    "        (\"High Contrast\", ImageEnhance.Contrast(image).enhance(3)),\n",
    "        (\"Sharpened\", image.filter(ImageFilter.SHARPEN))\n",
    "    ]\n",
    "    results = {}\n",
    "    for name, img in variations:\n",
    "        text = pytesseract.image_to_string(img)\n",
    "        results[name] = re.sub(r'\\s+', ' ', text.strip())\n",
    "    return results\n",
    "\n",
    "ocr_results = test_ocr_variations(cv_path)\n",
    "for name, text in ocr_results.items():\n",
    "    print(f\"{name} OCR Text:\", text)"
   ]
  },
  {
   "cell_type": "code",
   "execution_count": null,
   "metadata": {},
   "outputs": [],
   "source": []
  }
 ],
 "metadata": {
  "kernelspec": {
   "display_name": "venv",
   "language": "python",
   "name": "python3"
  },
  "language_info": {
   "codemirror_mode": {
    "name": "ipython",
    "version": 3
   },
   "file_extension": ".py",
   "mimetype": "text/x-python",
   "name": "python",
   "nbconvert_exporter": "python",
   "pygments_lexer": "ipython3",
   "version": "3.13.1"
  }
 },
 "nbformat": 4,
 "nbformat_minor": 5
}
